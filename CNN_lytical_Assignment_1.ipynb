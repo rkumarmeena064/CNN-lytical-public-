{
 "cells": [
  {
   "cell_type": "markdown",
   "metadata": {
    "id": "RksWtNuHg9Rb"
   },
   "source": [
    "# CNN-lytical Assignment-1\n",
    "*  In this assignment, we will build a classifier for MNIST from scratch using just [NumPy](https://numpy.org/)\n",
    "\n",
    "*  [MNIST](http://yann.lecun.com/exdb/mnist/) dataset contains images of handwritten digits of size 28x28\n",
    "\n",
    "*  The dataset that you are expected to use for training can be found [here](https://drive.google.com/file/d/1z7lwIml6UxsNpDIW3_mPPEb8SoaPC5Zg/view)\n",
    "\n",
    "*   Our model will have 1 hidden layer, like the one below (not our recommendation to use 256 in the hidden layer though, try various values out)\n",
    "\n",
    "**Feel free to redefine any function signatures below, just make sure the final cell remains the same.**\n",
    "\n",
    "<center>\n",
    "<img src=\"https://user-images.githubusercontent.com/81357954/166119893-4ca347b8-b1a4-40b8-9e0a-2e92b5f164ae.png\">\n",
    "</center>"
   ]
  },
  {
   "cell_type": "markdown",
   "metadata": {
    "id": "UyOAG55siwdI"
   },
   "source": [
    "## Import libraries here\n",
    "NumPy, Matplotlib, ...\n",
    "\n",
    "Also remember to initialize the seed for reproducibility of results"
   ]
  },
  {
   "cell_type": "code",
   "execution_count": 1,
   "metadata": {
    "id": "7iVUsRLxjAb9"
   },
   "outputs": [],
   "source": [
    "import numpy as np\n",
    "import pickle\n",
    "from matplotlib import pyplot as plt\n",
    "import random\n",
    "from sklearn.model_selection import train_test_split\n",
    "import math"
   ]
  },
  {
   "cell_type": "markdown",
   "metadata": {
    "id": "HaLDC4wN0eQs"
   },
   "source": [
    "## Load *Dataset*\n",
    "Load data from the given pickle file"
   ]
  },
  {
   "cell_type": "code",
   "execution_count": 2,
   "metadata": {
    "id": "6qOjNSmx0iUn"
   },
   "outputs": [
    {
     "name": "stdout",
     "output_type": "stream",
     "text": [
      "{'X': array([[0, 0, 0, ..., 0, 0, 0],\n",
      "       [0, 0, 0, ..., 0, 0, 0],\n",
      "       [0, 0, 0, ..., 0, 0, 0],\n",
      "       ...,\n",
      "       [0, 0, 0, ..., 0, 0, 0],\n",
      "       [0, 0, 0, ..., 0, 0, 0],\n",
      "       [0, 0, 0, ..., 0, 0, 0]], dtype=uint8), 'y': array([[6],\n",
      "       [9],\n",
      "       [8],\n",
      "       ...,\n",
      "       [1],\n",
      "       [8],\n",
      "       [6]], dtype=uint8)}\n"
     ]
    }
   ],
   "source": [
    "# mount Google Drive to access the dataset\n",
    "\n",
    "# load the data set\n",
    "with open (\"train_data.pkl\",'rb') as mydata:\n",
    "    dataset=pickle.load(mydata)\n",
    "print(dataset)\n",
    "\n",
    "X = dataset['X']\n",
    "y = dataset['y']\n",
    "\n",
    "\n",
    "StandDev=np.std(X,axis=0,keepdims=True)\n",
    "Mean=np.mean(X,axis=0,keepdims=True)\n",
    "Normalised_X=(X-Mean)/(StandDev+1e-7)\n",
    "\n",
    "# normalize\n",
    "\n",
    "# Split into X_train, y_train, X_test, y_test\n",
    "# you can use stratified splitting from sklearn library\n",
    "testsize=0.5\n",
    "X_train, X_test, y_train, y_test = train_test_split(Normalised_X, y, test_size=testsize, random_state=42)"
   ]
  },
  {
   "cell_type": "code",
   "execution_count": 3,
   "metadata": {
    "id": "id77Oqc90kTf"
   },
   "outputs": [
    {
     "data": {
      "image/png": "[encoded data removed]",
      "text/plain": [
       "<Figure size 432x288 with 16 Axes>"
      ]
     },
     "metadata": {
      "needs_background": "light"
     },
     "output_type": "display_data"
    }
   ],
   "source": [
    "for i in range(16):\n",
    "    plt.subplot(4,4,i+1)\n",
    "    index=random.randrange(0,60000)\n",
    "    image = X[index]\n",
    "    image = np.array(image, dtype='float')\n",
    "    pixels = image.reshape((28, 28))\n",
    "    plt.imshow(pixels, cmap='gray')\n",
    "    plt.title(y[index][0])\n",
    "    plt.axis('off')\n",
    "plt.subplots_adjust(left=0.1,\n",
    "                    bottom=0.1, \n",
    "                    right=0.9, \n",
    "                    top=0.9, \n",
    "                    wspace=0.4, \n",
    "                    hspace=0.4)\n",
    "plt.show()"
   ]
  },
  {
   "cell_type": "markdown",
   "metadata": {
    "id": "VFYnsPVLmsiW"
   },
   "source": [
    "## Building up parts of our classifier"
   ]
  },
  {
   "cell_type": "markdown",
   "metadata": {
    "id": "wAsGtgxUpGh2"
   },
   "source": [
    "**Activation functions**"
   ]
  },
  {
   "cell_type": "code",
   "execution_count": 4,
   "metadata": {
    "id": "6Di5Ck47msCQ"
   },
   "outputs": [],
   "source": [
    "def relu(z):\n",
    "    return np.maximum(0,z)\n",
    "\n",
    "def softmax(z):\n",
    "    reduced=z-np.max(z, axis=1,keepdims=True)\n",
    "    exponentiated=np.exp(reduced)\n",
    "    denominator=np.sum(exponentiated,axis=1,keepdims=True)\n",
    "    return exponentiated/denominator\n",
    "\n",
    "def sigmoid(z):\n",
    "    return 1/(1+np.exp(-z))\n"
   ]
  },
  {
   "cell_type": "markdown",
   "metadata": {
    "id": "G-q5HJHIocdn"
   },
   "source": [
    "**Notes about the Neural Network** \n",
    "*   Input size is (784,) because 28x28 = 784\n",
    "*   Output size will be 10, each element represeting probability of the image representing that digit\n",
    "*   Size of the hidden layer is a hyperparameter\n",
    "\n"
   ]
  },
  {
   "cell_type": "markdown",
   "metadata": {
    "id": "azTAuS5spFcz"
   },
   "source": [
    "**Initialize the layers weights**\n",
    "\n",
    "Generally, we follow the convention that weights are drawn from a standard normal distribution, while the bias vectors are initialized to zero. But you can try everything out :)"
   ]
  },
  {
   "cell_type": "code",
   "execution_count": 5,
   "metadata": {
    "id": "38E3_hVPocMm"
   },
   "outputs": [],
   "source": [
    "def init_params(inp,mid,out):\n",
    "    w0=0.01*np.random.randn(inp,mid)/math.sqrt(inp/2)\n",
    "    b0=np.zeros([mid,1])\n",
    "    w1=0.01*np.random.randn(mid,out)/math.sqrt(mid/2)\n",
    "    b1=np.zeros([out,1])\n",
    "    return (w0,b0,w1,b1)\n",
    "    "
   ]
  },
  {
   "cell_type": "markdown",
   "metadata": {
    "id": "UlX8zy-7pv2n"
   },
   "source": [
    "**Forward Propagation**"
   ]
  },
  {
   "cell_type": "code",
   "execution_count": 6,
   "metadata": {
    "id": "TJ8lgrqjjASz"
   },
   "outputs": [],
   "source": [
    "def forward_propg(X, weights):\n",
    "    \n",
    "    (w0,b0,w1,b1)=weights\n",
    "    output1=relu(X@w0+b0.T)\n",
    "    output2=output1@w1+b1.T\n",
    "    \n",
    "    \"\"\"\n",
    "    X: input data\n",
    "    returns: logits, output of each layer z1,z2,a1,a2\n",
    "    \"\"\"\n",
    "    return (output1,output2)\n"
   ]
  },
  {
   "cell_type": "markdown",
   "metadata": {
    "id": "asZmbRVvuy5x"
   },
   "source": [
    "**Backward Propagation**\n",
    "\n",
    "\n",
    "You may use stochastic gradient descent or batch gradient descent here. Feel free to use any loss function."
   ]
  },
  {
   "cell_type": "code",
   "execution_count": 7,
   "metadata": {
    "id": "kAmrTAlimjUN"
   },
   "outputs": [],
   "source": [
    "def backward_propg(weights, X, y, outputs,lr):\n",
    "    \n",
    "    output1,output2=outputs\n",
    "    (w0,b0,w1,b1)=weights\n",
    "    \n",
    "    N=X.shape[0]\n",
    "    grad_output2=softmax(output2)/N\n",
    "    for i in range(N):\n",
    "        grad_output2[i][y[i]]-=1/N\n",
    "    grad_b1=np.sum(grad_output2,axis=0,keepdims=True).T\n",
    "    grad_w1=output1.T@grad_output2\n",
    "    grad_output1=grad_output2@w1.T\n",
    "    grad_relu=grad_output1*(output1>0)\n",
    "    grad_b0=np.sum(grad_relu,axis=0,keepdims=True).T\n",
    "    grad_w0=X.T@grad_relu\n",
    "    \n",
    "    w0-=lr*grad_w0\n",
    "    b0-=lr*grad_b0\n",
    "    w1-=lr*grad_w1\n",
    "    b1-=lr*grad_b1\n",
    "    \n",
    "    return(w0,b0,w1,b1)\n",
    "    \n",
    "    \"\"\"\n",
    "    should update the weights and return updated weights\n",
    "    \"\"\"\n",
    "    "
   ]
  },
  {
   "cell_type": "code",
   "execution_count": 8,
   "metadata": {
    "id": "cVDz0IGnvzpe"
   },
   "outputs": [],
   "source": [
    "def cost_func(y,output2):\n",
    "    cost=0\n",
    "    exponentiated=softmax(output2)\n",
    "    for i in range(np.size(output2,0)):\n",
    "        cost+= -np.log(exponentiated[i][y[i]])/(np.size(output2,0))\n",
    "    \n",
    "    return cost\n",
    "    \"\"\"\n",
    "    calculate loss to check whether it is decreasing at each epoch or not\n",
    "    one can return this in backward propagation as well\n",
    "    \"\"\""
   ]
  },
  {
   "cell_type": "markdown",
   "metadata": {
    "id": "GUlhpcs9ylOX"
   },
   "source": [
    "\n",
    "## Integrate everything"
   ]
  },
  {
   "cell_type": "code",
   "execution_count": 9,
   "metadata": {
    "id": "SDGdT7PVmjRU"
   },
   "outputs": [],
   "source": [
    "def train(X, y, hidden_nodes, epochs=1000, lr=1e-5):\n",
    "    \"\"\"\n",
    "    hidden_nodes: no. of nodes in hidden layer\n",
    "\n",
    "    should return the updated optimize weights.\n",
    "    \"\"\"\n",
    "    inp=X.shape[1]\n",
    "    mid=hidden_nodes\n",
    "    out=10\n",
    "    weights=init_params(inp,mid,out)\n",
    "\n",
    "    for i in range(epochs):\n",
    "        # forward propagation\n",
    "        outputs=forward_propg(X,weights)\n",
    "        \n",
    "        # print cost at every 100 or so iterations\n",
    "        if i%50==0:\n",
    "            print(\"cost after {} iterations is: \".format(i),cost_func(y,outputs[1]))\n",
    "            \n",
    "        # backward propagation\n",
    "        \n",
    "        weights=backward_propg(weights,X,y,outputs,lr)\n",
    "        \n",
    "    return weights\n",
    "        "
   ]
  },
  {
   "cell_type": "code",
   "execution_count": 10,
   "metadata": {
    "id": "9XBinWpPmjOS"
   },
   "outputs": [],
   "source": [
    "def predict(X, updated_weights):\n",
    "    \n",
    "    (w0,b0,w1,b1)=updated_weights\n",
    "    output=forward_propg(X,updated_weights)[1]\n",
    "    max_elements=np.max(output,axis=1,keepdims=True)\n",
    "    y=np.zeros([X.shape[0],1])\n",
    "    for i in range(output.shape[0]):\n",
    "        for j in range(output.shape[1]):\n",
    "            if output[i][j]==max_elements[i]:\n",
    "                y[i]=j\n",
    "                break\n",
    "    \n",
    "    return y\n",
    "\n",
    "    \"\"\"\n",
    "    returns the prediction in [0,9] for each element in X\n",
    "    \"\"\""
   ]
  },
  {
   "cell_type": "code",
   "execution_count": 11,
   "metadata": {
    "id": "CtKSZWw71wc4"
   },
   "outputs": [],
   "source": [
    "def accuracy(predictions, y):\n",
    "    \n",
    "    return np.mean(predictions==y)*100\n",
    "    \"\"\"\n",
    "    prints % accuracy\n",
    "    \"\"\""
   ]
  },
  {
   "cell_type": "code",
   "execution_count": 16,
   "metadata": {},
   "outputs": [
    {
     "name": "stdout",
     "output_type": "stream",
     "text": [
      "cost after 0 iterations is:  [2.30255616]\n",
      "cost after 50 iterations is:  [0.20461041]\n",
      "cost after 100 iterations is:  [0.13433859]\n",
      "cost after 150 iterations is:  [0.09617488]\n",
      "cost after 200 iterations is:  [0.0713806]\n",
      "cost after 250 iterations is:  [0.05427288]\n",
      "cost after 300 iterations is:  [0.0421479]\n",
      "cost after 350 iterations is:  [0.03331081]\n",
      "cost after 400 iterations is:  [0.02678878]\n",
      "cost after 450 iterations is:  [0.02189089]\n",
      "cost after 500 iterations is:  [0.01816054]\n",
      "cost after 550 iterations is:  [0.01529209]\n",
      "cost after 600 iterations is:  [0.01305103]\n",
      "cost after 650 iterations is:  [0.01127229]\n",
      "cost after 700 iterations is:  [0.0098383]\n",
      "cost after 750 iterations is:  [0.00866903]\n",
      "cost after 800 iterations is:  [0.0077053]\n",
      "cost after 850 iterations is:  [0.00690324]\n",
      "cost after 900 iterations is:  [0.00622852]\n",
      "cost after 950 iterations is:  [0.00565658]\n",
      "96.60333333333332\n"
     ]
    }
   ],
   "source": [
    "weights=train(X_train,y_train,256,lr=1)\n",
    "print(accuracy(predict(X_test,weights),y_test))\n"
   ]
  },
  {
   "cell_type": "code",
   "execution_count": 17,
   "metadata": {},
   "outputs": [
    {
     "data": {
      "image/png": "[encoded data removed]",
      "text/plain": [
       "<Figure size 432x288 with 16 Axes>"
      ]
     },
     "metadata": {
      "needs_background": "light"
     },
     "output_type": "display_data"
    }
   ],
   "source": [
    "\n",
    "# X_test_show=X_test*(StandDev+1e-7)+Mean\n",
    "\n",
    "# for i in range(16):\n",
    "#     plt.subplot(4,4,i+1)\n",
    "#     index=random.randrange(0,60000*testsize)\n",
    "#     image = X_test_show[index]\n",
    "#     image = np.array(image, dtype='float')\n",
    "#     pixels = image.reshape((28, 28))\n",
    "#     plt.imshow(pixels, cmap='gray')\n",
    "# #     plt.title(predict(X_test_show[index],weights))\n",
    "#     plt.axis('off')\n",
    "# plt.subplots_adjust(left=0.1,\n",
    "#                     bottom=0.1, \n",
    "#                     right=0.9, \n",
    "#                     top=0.9, \n",
    "#                     wspace=0.4, \n",
    "#                     hspace=0.4)\n",
    "# plt.show()"
   ]
  },
  {
   "cell_type": "markdown",
   "metadata": {
    "id": "fGVOZ8yg0VrV"
   },
   "source": [
    "### Save as pickle"
   ]
  },
  {
   "cell_type": "code",
   "execution_count": 18,
   "metadata": {
    "colab": {
     "base_uri": "https://localhost:8080/",
     "height": 17
    },
    "id": "_lvDVwmxmjKX",
    "outputId": "02467c3f-b20f-44b7-8e3d-43e308028d17"
   },
   "outputs": [
    {
     "ename": "NameError",
     "evalue": "name 'files' is not defined",
     "output_type": "error",
     "traceback": [
      "\u001b[0;31m---------------------------------------------------------------------------\u001b[0m",
      "\u001b[0;31mNameError\u001b[0m                                 Traceback (most recent call last)",
      "Input \u001b[0;32mIn [18]\u001b[0m, in \u001b[0;36m<cell line: 17>\u001b[0;34m()\u001b[0m\n\u001b[1;32m     17\u001b[0m \u001b[38;5;28;01mwith\u001b[39;00m \u001b[38;5;28mopen\u001b[39m(\u001b[38;5;124mf\u001b[39m\u001b[38;5;124m'\u001b[39m\u001b[38;5;124mmodel_\u001b[39m\u001b[38;5;132;01m{\u001b[39;00mroll_num\u001b[38;5;132;01m}\u001b[39;00m\u001b[38;5;124m.pkl\u001b[39m\u001b[38;5;124m'\u001b[39m, \u001b[38;5;124m'\u001b[39m\u001b[38;5;124mwb\u001b[39m\u001b[38;5;124m'\u001b[39m) \u001b[38;5;28;01mas\u001b[39;00m f:\n\u001b[1;32m     18\u001b[0m     pickle\u001b[38;5;241m.\u001b[39mdump(model_dict, f)\n\u001b[0;32m---> 19\u001b[0m     \u001b[43mfiles\u001b[49m\u001b[38;5;241m.\u001b[39mdownload(\u001b[38;5;124mf\u001b[39m\u001b[38;5;124m'\u001b[39m\u001b[38;5;124mmodel_\u001b[39m\u001b[38;5;132;01m{\u001b[39;00mroll_num\u001b[38;5;132;01m}\u001b[39;00m\u001b[38;5;124m.pkl\u001b[39m\u001b[38;5;124m'\u001b[39m)\n",
      "\u001b[0;31mNameError\u001b[0m: name 'files' is not defined"
     ]
    }
   ],
   "source": [
    "roll_num = \"210050100\" # enter ldap\n",
    "hidden_dim = 256 # replace with your own hidden dimension\n",
    "\n",
    "model_dict = {\n",
    "    'z': hidden_dim, # hidden dimension of your model\n",
    "    'layer_0_wt': weights[0], # layer 0 weight (784, z)\n",
    "    'layer_0_bias': weights[1], # layer 0 bias (z, 1)\n",
    "    'layer_1_wt': weights[2], # layer 1 weight (z, 10)\n",
    "    'layer_1_bias': weights[3] # layer 1 bias (10, 1)\n",
    "}\n",
    "\n",
    "assert model_dict['layer_0_wt'].shape == (784, hidden_dim)\n",
    "assert model_dict['layer_0_bias'].shape == (hidden_dim, 1)\n",
    "assert model_dict['layer_1_wt'].shape == (hidden_dim, 10)\n",
    "assert model_dict['layer_1_bias'].shape == (10, 1)\n",
    "\n",
    "with open(f'model_{roll_num}.pkl', 'wb') as f:\n",
    "    pickle.dump(model_dict, f)\n",
    "    files.download(f'model_{roll_num}.pkl') # download the file from the Colab session for submission"
   ]
  },
  {
   "cell_type": "code",
   "execution_count": null,
   "metadata": {},
   "outputs": [],
   "source": []
  }
 ],
 "metadata": {
  "colab": {
   "collapsed_sections": [],
   "name": "CNN-lytical Assignment-1.ipynb",
   "provenance": []
  },
  "kernelspec": {
   "display_name": "Python 3 (ipykernel)",
   "language": "python",
   "name": "python3"
  },
  "language_info": {
   "codemirror_mode": {
    "name": "ipython",
    "version": 3
   },
   "file_extension": ".py",
   "mimetype": "text/x-python",
   "name": "python",
   "nbconvert_exporter": "python",
   "pygments_lexer": "ipython3",
   "version": "3.8.10"
  }
 },
 "nbformat": 4,
 "nbformat_minor": 1
}
