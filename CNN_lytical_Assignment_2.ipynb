{
 "cells": [
  {
   "cell_type": "markdown",
   "metadata": {
    "id": "Xwo8D8V-uPsI"
   },
   "source": [
    "# CNN-lytical Assignment-2\n",
    "<center>\n",
    "<img src=\"https://encrypted-tbn0.gstatic.com/images?q=tbn:ANd9GcS7fZ0PJ4leQi4qtXR5Egv5YILqQqvzVSNtFg&usqp=CAU\">\n",
    "</center>\n",
    "\n",
    "*  In this assignment, we will build a classifier for MNIST from using [PyTorch](https://pytorch.org/docs/stable/index.html). \n",
    "\n",
    "*   We will be using the same dataset as the previous assignment for MNIST. **Do not** use the complete MNIST dataset, even though PyTorch makes it really easy.\n",
    "\n",
    "*   No limitations on your model this time, just don't use CNNs now, that's up next week.\n",
    "\n",
    "**Feel free to redefine any function signatures below, just make sure the final cell remains the same.**"
   ]
  },
  {
   "cell_type": "markdown",
   "metadata": {
    "id": "QQNvtQCE_j1Q"
   },
   "source": [
    "## Import libraries here\n",
    "PyTorch, NumPy, Matplotlib, ...\n",
    "Even when equipped with PyTorch, NumPy and Matplotlib make your work easier for visualization etc.\n",
    "\n",
    "Also remember to **initialize the seed** for reproducibility of results, both for NumPy & PyTorch."
   ]
  },
  {
   "cell_type": "code",
   "execution_count": 13,
   "metadata": {
    "id": "CnnyxVTxqpZB"
   },
   "outputs": [],
   "source": [
    "import torch\n",
    "import torch.nn as nn\n",
    "from torch.utils.data import Dataset, DataLoader\n",
    "import numpy as np\n",
    "import pickle\n",
    "from matplotlib import pyplot as plt\n",
    "import random\n",
    "from sklearn.model_selection import train_test_split\n",
    "import math"
   ]
  },
  {
   "cell_type": "markdown",
   "metadata": {
    "id": "D6dAe4V0_3zC"
   },
   "source": [
    "## Load *Dataset*\n",
    "Use the pickle file shared for the previous assignment here."
   ]
  },
  {
   "cell_type": "code",
   "execution_count": 14,
   "metadata": {
    "id": "umr8-1EI_3ez"
   },
   "outputs": [
    {
     "name": "stdout",
     "output_type": "stream",
     "text": [
      "{'X': array([[0, 0, 0, ..., 0, 0, 0],\n",
      "       [0, 0, 0, ..., 0, 0, 0],\n",
      "       [0, 0, 0, ..., 0, 0, 0],\n",
      "       ...,\n",
      "       [0, 0, 0, ..., 0, 0, 0],\n",
      "       [0, 0, 0, ..., 0, 0, 0],\n",
      "       [0, 0, 0, ..., 0, 0, 0]], dtype=uint8), 'y': array([[6],\n",
      "       [9],\n",
      "       [8],\n",
      "       ...,\n",
      "       [1],\n",
      "       [8],\n",
      "       [6]], dtype=uint8)}\n",
      "(60000, 784)\n",
      "(30000, 784)\n"
     ]
    }
   ],
   "source": [
    "# load the data set\n",
    "with open (\"train_data.pkl\",'rb') as mydata:\n",
    "    dataset=pickle.load(mydata)\n",
    "print(dataset)\n",
    "\n",
    "X = dataset['X']\n",
    "y = dataset['y']\n",
    "\n",
    "\n",
    "StandDev=np.std(X,axis=0,keepdims=True)\n",
    "Mean=np.mean(X,axis=0,keepdims=True)\n",
    "Normalised_X=(X-Mean)/(StandDev+1e-7)\n",
    "\n",
    "print(X.shape)\n",
    "# normalize\n",
    "\n",
    "# Split into X_train, y_train, X_test, y_test\n",
    "# you can use stratified splitting from sklearn library\n",
    "testsize=0.5\n",
    "X_train, X_test, y_train, y_test = train_test_split(Normalised_X, y, test_size=testsize, random_state=42)\n",
    "print(X_test.shape)"
   ]
  },
  {
   "cell_type": "code",
   "execution_count": 15,
   "metadata": {
    "id": "w4174DiUAUIJ"
   },
   "outputs": [
    {
     "data": {
      "image/png": "[encoded data removed]",
      "text/plain": [
       "<Figure size 432x288 with 16 Axes>"
      ]
     },
     "metadata": {
      "needs_background": "light"
     },
     "output_type": "display_data"
    }
   ],
   "source": [
    "for i in range(16):\n",
    "    plt.subplot(4,4,i+1)\n",
    "    index=random.randrange(0,60000)\n",
    "    image = X[index]\n",
    "    image = np.array(image, dtype='float')\n",
    "    pixels = image.reshape((28, 28))\n",
    "    plt.imshow(pixels, cmap='gray')\n",
    "    plt.title(y[index][0])\n",
    "    plt.axis('off')\n",
    "plt.subplots_adjust(left=0.1,\n",
    "                    bottom=0.1, \n",
    "                    right=0.9, \n",
    "                    top=0.9, \n",
    "                    wspace=0.4, \n",
    "                    hspace=0.4)\n",
    "plt.show()"
   ]
  },
  {
   "cell_type": "markdown",
   "metadata": {
    "id": "ZjY5oNGRAK1e"
   },
   "source": [
    "## Creating a Dataset Class\n",
    "In PyTorch, there is existing implementation of batch-splitting. You don't need to do it manually over here. Instead, just define a Dataset class and a Dataloader wrapping it.\n",
    "\n",
    "A dataset class must have 3 functions - ```__init__```, ```__len__```, ```__getitem__```. Their names are pretty self-explanatory. You can read more about this [here](https://pytorch.org/tutorials/beginner/basics/data_tutorial.html).\n",
    "\n",
    "\n",
    "**Note** - Things like normalization, augmentation etc. which are related to the dataset are all done in this class. However, because this assignment doesn't deal with MNIST images but rather feature vectors, this part is being skipped here and will be discussed in Assignment 3."
   ]
  },
  {
   "cell_type": "code",
   "execution_count": 16,
   "metadata": {
    "id": "vifSrimqBGjH"
   },
   "outputs": [],
   "source": [
    "# define your dataset class\n",
    "class MNSITDATA(Dataset):\n",
    "    \n",
    "    def __init__(self,X,y):\n",
    "        self.X=torch.Tensor(X)\n",
    "        self.y=torch.Tensor(y)\n",
    "        self.n_samples=X.shape[0]\n",
    "        \n",
    "    def __getitem__(self,index):\n",
    "        return self.X[index], self.y[index]\n",
    "    \n",
    "    def __len__(self):\n",
    "        return self.n_samples\n",
    "    \n",
    "\n",
    "dataset=MNSITDATA(X_train,y_train)\n",
    "dataloader=DataLoader(dataset=dataset, batch_size=256,shuffle=True)\n",
    "\n"
   ]
  },
  {
   "cell_type": "markdown",
   "metadata": {
    "id": "DOs6uifpBF8P"
   },
   "source": [
    "## ```nn.Module``` for your model\n",
    "In this segment, define a class for your model, it has to inherit from the ```nn.Module``` class. You must define two functions here - ```__init__``` and ```forward```, again pretty self-explanatory. Helper functions can also be implemented, your choice!\n",
    "\n",
    "Look into the following ```torch``` layers and combine them to form your network, you can find more [here](https://pytorch.org/docs/stable/nn.html) -\n",
    "- [```nn.Linear```](https://pytorch.org/docs/stable/generated/torch.nn.Linear.html)\n",
    "- [```nn.ReLU```](https://pytorch.org/docs/stable/generated/torch.nn.ReLU.html)\n",
    "- [```nn.BatchNorm1d```](https://pytorch.org/docs/stable/generated/torch.nn.BatchNorm1d.html)\n"
   ]
  },
  {
   "cell_type": "code",
   "execution_count": 17,
   "metadata": {
    "id": "6Mr6_5pzGRjp"
   },
   "outputs": [],
   "source": [
    "# define a child class of nn.Module for your model\n",
    "# specify the architecture here itself\n",
    "\n",
    "\n",
    "class NeuralNet(nn.Module):\n",
    "    def __init__(self, input_size, num_classes):\n",
    "        super(NeuralNet,self).__init__()\n",
    "        self.l1=nn.Linear(input_size,512)\n",
    "        self.relu=nn.ReLU()\n",
    "        self.l2=nn.Linear(512, 256)\n",
    "        self.l3=nn.Linear(256,128)\n",
    "        self.l4=nn.Linear(128,num_classes)\n",
    "        self.bn1=nn.BatchNorm1d(512)\n",
    "        self.bn2=nn.BatchNorm1d(256)\n",
    "        \n",
    "    def forward(self,x):\n",
    "        out=self.l1(x)\n",
    "        out=self.bn1(out)\n",
    "        out=self.relu(out)\n",
    "        out=self.l2(out)\n",
    "        out=self.bn2(out)\n",
    "        out=self.relu(out)\n",
    "        out=self.l3(out)\n",
    "        out=self.relu(out)\n",
    "        out=self.l4(out)\n",
    "        out=nn.functional.log_softmax(out,dim=1)\n",
    "        return out\n",
    "\n",
    "\n"
   ]
  },
  {
   "cell_type": "markdown",
   "metadata": {
    "id": "tVTyirdELXlt"
   },
   "source": [
    "## Training loop\n",
    "You can write a training loop but usually writing it within a function helps so that you can train in multiple passes with just one function call if you still don't see convergence of the loss. ```display_step``` is for you to display results on the validation set (which you must not have trained upon).\n",
    "\n",
    "You will need to use ```zero_grad()```, ```backward()``` and multiple such functions here. Look for them in the tutorials given."
   ]
  },
  {
   "cell_type": "code",
   "execution_count": 18,
   "metadata": {
    "id": "z0BnrNm8LN5s"
   },
   "outputs": [],
   "source": [
    "def train(model, optimizer, criterion, train_loader, display_step=None):\n",
    "    n_total_steps=len(train_loader)\n",
    "    num_epochs=20\n",
    "    for epoch in range(num_epochs):\n",
    "        for i,(images, labels) in enumerate(train_loader):\n",
    "            images=images.reshape(-1,28*28)\n",
    "            outputs=model.forward(images)\n",
    "            labels=torch.reshape(labels,(-1,)).long()\n",
    "            loss=criterion(outputs, labels)\n",
    "            optimizer.zero_grad()\n",
    "            loss.backward()\n",
    "            optimizer.step()\n",
    "            \n",
    "            if (i+1)%100==0:\n",
    "                print(f'epoch {epoch+1}/{num_epochs}, step {i+1}/{n_total_steps}, loss={loss.item():.4f}')\n",
    "            "
   ]
  },
  {
   "cell_type": "markdown",
   "metadata": {
    "id": "g319ipPXMh0R"
   },
   "source": [
    "## Initialize weights\n",
    "Write a small function to initialize weights for your model. You don't need to do it individually for each layer, there are ways to do it in a simple ```for``` loop."
   ]
  },
  {
   "cell_type": "code",
   "execution_count": 19,
   "metadata": {
    "id": "GRqqKNLZMjDe"
   },
   "outputs": [],
   "source": [
    "def init_weights():\n",
    "    pass"
   ]
  },
  {
   "cell_type": "markdown",
   "metadata": {
    "id": "ivuHRGtfN3sE"
   },
   "source": [
    "## Prediction & Accuracy\n",
    "Prediction function should predict outputs using your trained model for a given **NumPy array** ```X_test``` and the output should be another **NumPy array**.\n",
    "\n",
    "The accuracy function would be the same as before."
   ]
  },
  {
   "cell_type": "code",
   "execution_count": 20,
   "metadata": {
    "id": "cPX1q_0AN3ZV"
   },
   "outputs": [],
   "source": [
    "def predict(model, X_test):\n",
    "    X_test_=torch.from_numpy(X_test).float()\n",
    "    scores=model.forward(X_test_)\n",
    "    np_scores=scores.detach().numpy()\n",
    "    predictions=np_scores.argmax(axis=1,keepdims=True)\n",
    "    return predictions"
   ]
  },
  {
   "cell_type": "code",
   "execution_count": 21,
   "metadata": {
    "id": "_nKROVpWOa6j"
   },
   "outputs": [],
   "source": [
    "def accuracy(pred, labels):\n",
    "    return np.mean(pred==labels)*100\n",
    "    "
   ]
  },
  {
   "cell_type": "markdown",
   "metadata": {
    "id": "8aA1EWZmMbQe"
   },
   "source": [
    "## Actually training your model\n",
    "- Create a model, initialize it. Define optimizer for the model as well as loss criterion (you can actually set the seed here again, just in case you did some ```rand``` calls above for testing your functions).\n",
    "- Define an instance of the dataset class, wrap it in a dataloader.\n",
    "- Call the train function and train your model!\n"
   ]
  },
  {
   "cell_type": "code",
   "execution_count": 22,
   "metadata": {
    "id": "F8JG_XURNLmr"
   },
   "outputs": [
    {
     "name": "stdout",
     "output_type": "stream",
     "text": [
      "epoch 1/20, step 100/118, loss=0.2595\n",
      "epoch 2/20, step 100/118, loss=0.1064\n",
      "epoch 3/20, step 100/118, loss=0.1744\n",
      "epoch 4/20, step 100/118, loss=0.0830\n",
      "epoch 5/20, step 100/118, loss=0.0919\n",
      "epoch 6/20, step 100/118, loss=0.0252\n",
      "epoch 7/20, step 100/118, loss=0.0308\n",
      "epoch 8/20, step 100/118, loss=0.0570\n",
      "epoch 9/20, step 100/118, loss=0.0300\n",
      "epoch 10/20, step 100/118, loss=0.0130\n",
      "epoch 11/20, step 100/118, loss=0.0242\n",
      "epoch 12/20, step 100/118, loss=0.0574\n",
      "epoch 13/20, step 100/118, loss=0.0100\n",
      "epoch 14/20, step 100/118, loss=0.0107\n",
      "epoch 15/20, step 100/118, loss=0.0192\n",
      "epoch 16/20, step 100/118, loss=0.0262\n",
      "epoch 17/20, step 100/118, loss=0.0285\n",
      "epoch 18/20, step 100/118, loss=0.0138\n",
      "epoch 19/20, step 100/118, loss=0.0259\n",
      "epoch 20/20, step 100/118, loss=0.0045\n"
     ]
    }
   ],
   "source": [
    "input_size=X.shape[1]\n",
    "# hidden_size=256\n",
    "num_classes=10\n",
    "learning_rate=0.01\n",
    "\n",
    "model=NeuralNet(input_size,num_classes)\n",
    "criterion=nn.NLLLoss()\n",
    "optimizer=torch.optim.Adam(model.parameters(), lr=learning_rate)\n",
    "\n",
    "train(model,optimizer,criterion,dataloader)"
   ]
  },
  {
   "cell_type": "markdown",
   "metadata": {
    "id": "OQsiK0-COe6E"
   },
   "source": [
    "## Run your model for the validation dataset\n",
    "Use your trained model to get predictions for the validation dataset you split earlier."
   ]
  },
  {
   "cell_type": "code",
   "execution_count": 23,
   "metadata": {
    "id": "i_B_NUjUOq3c"
   },
   "outputs": [
    {
     "name": "stdout",
     "output_type": "stream",
     "text": [
      "97.15333333333334\n"
     ]
    }
   ],
   "source": [
    "print(accuracy(predict(model,X_test),y_test))"
   ]
  },
  {
   "cell_type": "markdown",
   "metadata": {
    "id": "0f4W_facj-PA"
   },
   "source": [
    "## Submission\n",
    "To submit your solution, you will need to make a file with name ```model.py``` containing imports necessary to write the model class and the model class itself. It shouldn't do anything else when run. Other than this, save the trained model in a file named ```ass_2.pt```. When you are done with the assignment, commit the updated notebook, the ```model.py``` class file and the ```ass_2.pt``` model-weights file to the repository."
   ]
  },
  {
   "cell_type": "code",
   "execution_count": 24,
   "metadata": {
    "id": "7tknYAy1j92M"
   },
   "outputs": [],
   "source": [
    "torch.save(model, 'ass_2.pt')"
   ]
  },
  {
   "cell_type": "markdown",
   "metadata": {
    "id": "flMRBW9Akhkg"
   },
   "source": [
    "Check if it got saved right!"
   ]
  },
  {
   "cell_type": "code",
   "execution_count": 25,
   "metadata": {
    "id": "-wA9nHzYkj1R"
   },
   "outputs": [
    {
     "name": "stdout",
     "output_type": "stream",
     "text": [
      "97.15333333333334\n"
     ]
    }
   ],
   "source": [
    "# load the model, use predict function\n",
    "model_test=torch.load('ass_2.pt')\n",
    "print(accuracy(predict(model,X_test),y_test))"
   ]
  },
  {
   "cell_type": "code",
   "execution_count": null,
   "metadata": {},
   "outputs": [],
   "source": []
  }
 ],
 "metadata": {
  "colab": {
   "collapsed_sections": [],
   "name": "CNN-lytical Assignment-2.ipynb",
   "provenance": []
  },
  "kernelspec": {
   "display_name": "Python 3 (ipykernel)",
   "language": "python",
   "name": "python3"
  },
  "language_info": {
   "codemirror_mode": {
    "name": "ipython",
    "version": 3
   },
   "file_extension": ".py",
   "mimetype": "text/x-python",
   "name": "python",
   "nbconvert_exporter": "python",
   "pygments_lexer": "ipython3",
   "version": "3.8.10"
  }
 },
 "nbformat": 4,
 "nbformat_minor": 1
}
